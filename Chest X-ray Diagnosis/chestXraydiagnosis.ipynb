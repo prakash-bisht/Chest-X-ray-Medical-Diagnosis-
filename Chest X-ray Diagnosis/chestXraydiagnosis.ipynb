{
  "nbformat": 4,
  "nbformat_minor": 0,
  "metadata": {
    "colab": {
      "name": "AIMedical3.ipynb",
      "provenance": [],
      "collapsed_sections": []
    },
    "kernelspec": {
      "name": "python3",
      "display_name": "Python 3"
    },
    "language_info": {
      "name": "python"
    }
  },
  "cells": [
    {
      "cell_type": "code",
      "metadata": {
        "id": "mkRfoZ_yDSyX"
      },
      "source": [
        "import numpy as np \n",
        "import pandas as pd \n",
        "import matplotlib.pyplot as plt\n",
        "import seaborn as sns \n",
        "from keras.preprocessing.image import ImageDataGenerator\n",
        "from keras.applications.densenet import  DenseNet121\n",
        "from keras.layers import Dense,GlobalAveragePooling2D\n",
        "from keras.models import Model \n",
        "from keras.models import load_model \n",
        "from keras import backend as k \n",
        "import util "
      ],
      "execution_count": null,
      "outputs": []
    },
    {
      "cell_type": "code",
      "metadata": {
        "id": "shHijdhZnkrd"
      },
      "source": [
        "https://github.com/Noahbisht0/chestXray-dataset.git"
      ],
      "execution_count": null,
      "outputs": []
    },
    {
      "cell_type": "code",
      "metadata": {
        "id": "inF37qMcDS1F",
        "colab": {
          "base_uri": "https://localhost:8080/",
          "height": 226
        },
        "outputId": "89d71c5e-8a07-411f-fb2a-ac46fa97de23"
      },
      "source": [
        "train_df = pd.read_csv(\"chestXray-dataset/nih/train-small.csv\")\n",
        "valid_df = pd.read_csv(\"chestXray-dataset/nih/valid-small.csv\")\n",
        "test_df = pd.read_csv(\"chestXray-dataset/nih/test.csv\")\n",
        "train_df.head()"
      ],
      "execution_count": null,
      "outputs": [
        {
          "output_type": "execute_result",
          "data": {
            "text/html": [
              "<div>\n",
              "<style scoped>\n",
              "    .dataframe tbody tr th:only-of-type {\n",
              "        vertical-align: middle;\n",
              "    }\n",
              "\n",
              "    .dataframe tbody tr th {\n",
              "        vertical-align: top;\n",
              "    }\n",
              "\n",
              "    .dataframe thead th {\n",
              "        text-align: right;\n",
              "    }\n",
              "</style>\n",
              "<table border=\"1\" class=\"dataframe\">\n",
              "  <thead>\n",
              "    <tr style=\"text-align: right;\">\n",
              "      <th></th>\n",
              "      <th>Image</th>\n",
              "      <th>Atelectasis</th>\n",
              "      <th>Cardiomegaly</th>\n",
              "      <th>Consolidation</th>\n",
              "      <th>Edema</th>\n",
              "      <th>Effusion</th>\n",
              "      <th>Emphysema</th>\n",
              "      <th>Fibrosis</th>\n",
              "      <th>Hernia</th>\n",
              "      <th>Infiltration</th>\n",
              "      <th>Mass</th>\n",
              "      <th>Nodule</th>\n",
              "      <th>PatientId</th>\n",
              "      <th>Pleural_Thickening</th>\n",
              "      <th>Pneumonia</th>\n",
              "      <th>Pneumothorax</th>\n",
              "    </tr>\n",
              "  </thead>\n",
              "  <tbody>\n",
              "    <tr>\n",
              "      <th>0</th>\n",
              "      <td>00008270_015.png</td>\n",
              "      <td>0</td>\n",
              "      <td>0</td>\n",
              "      <td>0</td>\n",
              "      <td>0</td>\n",
              "      <td>0</td>\n",
              "      <td>0</td>\n",
              "      <td>0</td>\n",
              "      <td>0</td>\n",
              "      <td>0</td>\n",
              "      <td>0</td>\n",
              "      <td>0</td>\n",
              "      <td>8270</td>\n",
              "      <td>0</td>\n",
              "      <td>0</td>\n",
              "      <td>0</td>\n",
              "    </tr>\n",
              "    <tr>\n",
              "      <th>1</th>\n",
              "      <td>00029855_001.png</td>\n",
              "      <td>1</td>\n",
              "      <td>0</td>\n",
              "      <td>0</td>\n",
              "      <td>0</td>\n",
              "      <td>1</td>\n",
              "      <td>0</td>\n",
              "      <td>0</td>\n",
              "      <td>0</td>\n",
              "      <td>1</td>\n",
              "      <td>0</td>\n",
              "      <td>0</td>\n",
              "      <td>29855</td>\n",
              "      <td>0</td>\n",
              "      <td>0</td>\n",
              "      <td>0</td>\n",
              "    </tr>\n",
              "    <tr>\n",
              "      <th>2</th>\n",
              "      <td>00001297_000.png</td>\n",
              "      <td>0</td>\n",
              "      <td>0</td>\n",
              "      <td>0</td>\n",
              "      <td>0</td>\n",
              "      <td>0</td>\n",
              "      <td>0</td>\n",
              "      <td>0</td>\n",
              "      <td>0</td>\n",
              "      <td>0</td>\n",
              "      <td>0</td>\n",
              "      <td>0</td>\n",
              "      <td>1297</td>\n",
              "      <td>1</td>\n",
              "      <td>0</td>\n",
              "      <td>0</td>\n",
              "    </tr>\n",
              "    <tr>\n",
              "      <th>3</th>\n",
              "      <td>00012359_002.png</td>\n",
              "      <td>0</td>\n",
              "      <td>0</td>\n",
              "      <td>0</td>\n",
              "      <td>0</td>\n",
              "      <td>0</td>\n",
              "      <td>0</td>\n",
              "      <td>0</td>\n",
              "      <td>0</td>\n",
              "      <td>0</td>\n",
              "      <td>0</td>\n",
              "      <td>0</td>\n",
              "      <td>12359</td>\n",
              "      <td>0</td>\n",
              "      <td>0</td>\n",
              "      <td>0</td>\n",
              "    </tr>\n",
              "    <tr>\n",
              "      <th>4</th>\n",
              "      <td>00017951_001.png</td>\n",
              "      <td>0</td>\n",
              "      <td>0</td>\n",
              "      <td>0</td>\n",
              "      <td>0</td>\n",
              "      <td>0</td>\n",
              "      <td>0</td>\n",
              "      <td>0</td>\n",
              "      <td>0</td>\n",
              "      <td>1</td>\n",
              "      <td>0</td>\n",
              "      <td>0</td>\n",
              "      <td>17951</td>\n",
              "      <td>0</td>\n",
              "      <td>0</td>\n",
              "      <td>0</td>\n",
              "    </tr>\n",
              "  </tbody>\n",
              "</table>\n",
              "</div>"
            ],
            "text/plain": [
              "              Image  Atelectasis  ...  Pneumonia  Pneumothorax\n",
              "0  00008270_015.png            0  ...          0             0\n",
              "1  00029855_001.png            1  ...          0             0\n",
              "2  00001297_000.png            0  ...          0             0\n",
              "3  00012359_002.png            0  ...          0             0\n",
              "4  00017951_001.png            0  ...          0             0\n",
              "\n",
              "[5 rows x 16 columns]"
            ]
          },
          "metadata": {
            "tags": []
          },
          "execution_count": 3
        }
      ]
    },
    {
      "cell_type": "code",
      "metadata": {
        "id": "7kEUMz4mDS5L"
      },
      "source": [
        "labels = ['Cardiomegaly', \n",
        "          'Emphysema', \n",
        "          'Effusion', \n",
        "          'Hernia', \n",
        "          'Infiltration', \n",
        "          'Mass', \n",
        "          'Nodule', \n",
        "          'Atelectasis',\n",
        "          'Pneumothorax',\n",
        "          'Pleural_Thickening', \n",
        "          'Pneumonia', \n",
        "          'Fibrosis', \n",
        "          'Edema', \n",
        "          'Consolidation']"
      ],
      "execution_count": null,
      "outputs": []
    },
    {
      "cell_type": "code",
      "metadata": {
        "id": "Iw3nE6hZDS7S"
      },
      "source": [
        "def check_for_leakage(df1,df2,patient_col):\n",
        "  df1_patients_unique = set(df1[patient_col].values)\n",
        "  df2_patients_unique = set(df2[patient_col].values)\n",
        "  patients_in_both_group = list((df1_patients_unique).intersection(df2_patients_unique))\n",
        "  leakage = len(patients_in_both_group) != 0 \n",
        "  return leakage"
      ],
      "execution_count": null,
      "outputs": []
    },
    {
      "cell_type": "code",
      "metadata": {
        "id": "X8oU53pBDS9q",
        "colab": {
          "base_uri": "https://localhost:8080/"
        },
        "outputId": "66daca81-ff50-4116-f704-452b74e27671"
      },
      "source": [
        "print(\"test case 1\")\n",
        "df1 = pd.DataFrame({'patient_id':[0,1,2]})\n",
        "df2 = pd.DataFrame({'patient_id':[2,3,4]})\n",
        "print(df1)\n",
        "print(df2)\n",
        "print(f\"leakage output: {check_for_leakage(df1,df2,'patient_id')}\")\n",
        "df1 = pd.DataFrame({'patient_id': [0, 1, 2]})\n",
        "df2 = pd.DataFrame({'patient_id': [3, 4, 5]})\n",
        "print(df1)\n",
        "print(df2)\n",
        "print(f\"leakage output: {check_for_leakage(df1, df2, 'patient_id')}\")"
      ],
      "execution_count": null,
      "outputs": [
        {
          "output_type": "stream",
          "text": [
            "test case 1\n",
            "   patient_id\n",
            "0           0\n",
            "1           1\n",
            "2           2\n",
            "   patient_id\n",
            "0           2\n",
            "1           3\n",
            "2           4\n",
            "leakage output: True\n",
            "   patient_id\n",
            "0           0\n",
            "1           1\n",
            "2           2\n",
            "   patient_id\n",
            "0           3\n",
            "1           4\n",
            "2           5\n",
            "leakage output: False\n"
          ],
          "name": "stdout"
        }
      ]
    },
    {
      "cell_type": "code",
      "metadata": {
        "id": "Y5GsnLiKDTAQ",
        "colab": {
          "base_uri": "https://localhost:8080/"
        },
        "outputId": "e261e7eb-e6ff-4fea-8b0c-50db43a36038"
      },
      "source": [
        "print(\"leakage between train and valid: {}\".format(check_for_leakage(train_df,valid_df,'PatientId')))\n",
        "print(\"leakage between train and test: {}\".format(check_for_leakage(train_df,test_df,'PatientId')))\n",
        "print(\"leakage between valid and test: {}\".format(check_for_leakage(valid_df,test_df,'PatientId')))"
      ],
      "execution_count": null,
      "outputs": [
        {
          "output_type": "stream",
          "text": [
            "leakage between train and valid: True\n",
            "leakage between train and test: False\n",
            "leakage between valid and test: False\n"
          ],
          "name": "stdout"
        }
      ]
    },
    {
      "cell_type": "code",
      "metadata": {
        "id": "stK6baA-DTFB"
      },
      "source": [
        "def get_train_generator(df, image_dir, x_col, y_cols, shuffle=True, batch_size=8, seed=1, target_w = 320, target_h = 320):\n",
        "    image_generator = ImageDataGenerator(\n",
        "        samplewise_center=True,\n",
        "        samplewise_std_normalization= True)\n",
        "    \n",
        "    generator = image_generator.flow_from_dataframe(\n",
        "            dataframe=df,\n",
        "            directory=image_dir,\n",
        "            x_col=x_col,\n",
        "            y_col=y_cols,\n",
        "            class_mode=\"raw\",\n",
        "            batch_size=batch_size,\n",
        "            shuffle=shuffle,\n",
        "            seed=seed,\n",
        "            target_size=(target_w,target_h))\n",
        "    \n",
        "    return generator"
      ],
      "execution_count": null,
      "outputs": []
    },
    {
      "cell_type": "code",
      "metadata": {
        "id": "eEyb6-1QNNts"
      },
      "source": [
        "def get_test_and_valid_generator(valid_df, test_df, train_df, image_dir, x_col, y_cols, sample_size=100, batch_size=8, seed=1, target_w = 320, target_h = 320):\n",
        "    \n",
        "    raw_train_generator = ImageDataGenerator().flow_from_dataframe(\n",
        "        dataframe=train_df, \n",
        "        directory=IMAGE_DIR, \n",
        "        x_col=\"Image\", \n",
        "        y_col=labels, \n",
        "        class_mode=\"raw\", \n",
        "        batch_size=sample_size, \n",
        "        shuffle=True, \n",
        "        target_size=(target_w, target_h))\n",
        "    \n",
        "    batch = raw_train_generator.next()\n",
        "    data_sample = batch[0]\n",
        "    image_generator = ImageDataGenerator(\n",
        "        featurewise_center=True,\n",
        "        featurewise_std_normalization= True)\n",
        "    \n",
        "    image_generator.fit(data_sample)\n",
        "\n",
        "    valid_generator = image_generator.flow_from_dataframe(\n",
        "            dataframe=valid_df,\n",
        "            directory=image_dir,\n",
        "            x_col=x_col,\n",
        "            y_col=y_cols,\n",
        "            class_mode=\"raw\",\n",
        "            batch_size=batch_size,\n",
        "            shuffle=False,\n",
        "            seed=seed,\n",
        "            target_size=(target_w,target_h))\n",
        "\n",
        "    test_generator = image_generator.flow_from_dataframe(\n",
        "            dataframe=test_df,\n",
        "            directory=image_dir,\n",
        "            x_col=x_col,\n",
        "            y_col=y_cols,\n",
        "            class_mode=\"raw\",\n",
        "            batch_size=batch_size,\n",
        "            shuffle=False,\n",
        "            seed=seed,\n",
        "            target_size=(target_w,target_h))\n",
        "    return valid_generator, test_generator"
      ],
      "execution_count": null,
      "outputs": []
    },
    {
      "cell_type": "code",
      "metadata": {
        "colab": {
          "base_uri": "https://localhost:8080/"
        },
        "id": "dtKR4lS3NNwf",
        "outputId": "9517cfb9-8488-4d87-a8cf-46837c32b75e"
      },
      "source": [
        "IMAGE_DIR = \"chestXray-dataset/nih/images-small/\"\n",
        "train_generator = get_train_generator(train_df,IMAGE_DIR,'Image',labels)\n",
        "valid_generator,test_generator = get_test_and_valid_generator(valid_df,test_df,train_df,IMAGE_DIR,\"Image\",labels)"
      ],
      "execution_count": null,
      "outputs": [
        {
          "output_type": "stream",
          "text": [
            "getting train generator...\n",
            "Found 32 validated image filenames.\n",
            "getting train and valid generators...\n",
            "Found 32 validated image filenames.\n"
          ],
          "name": "stdout"
        },
        {
          "output_type": "stream",
          "text": [
            "/usr/local/lib/python3.7/dist-packages/keras_preprocessing/image/dataframe_iterator.py:282: UserWarning: Found 968 invalid image filename(s) in x_col=\"Image\". These filename(s) will be ignored.\n",
            "  .format(n_invalid, x_col)\n"
          ],
          "name": "stderr"
        },
        {
          "output_type": "stream",
          "text": [
            "Found 1 validated image filenames.\n",
            "Found 18 validated image filenames.\n"
          ],
          "name": "stdout"
        },
        {
          "output_type": "stream",
          "text": [
            "/usr/local/lib/python3.7/dist-packages/keras_preprocessing/image/dataframe_iterator.py:282: UserWarning: Found 108 invalid image filename(s) in x_col=\"Image\". These filename(s) will be ignored.\n",
            "  .format(n_invalid, x_col)\n",
            "/usr/local/lib/python3.7/dist-packages/keras_preprocessing/image/dataframe_iterator.py:282: UserWarning: Found 402 invalid image filename(s) in x_col=\"Image\". These filename(s) will be ignored.\n",
            "  .format(n_invalid, x_col)\n"
          ],
          "name": "stderr"
        }
      ]
    },
    {
      "cell_type": "code",
      "metadata": {
        "colab": {
          "base_uri": "https://localhost:8080/",
          "height": 304
        },
        "id": "ysiTtuDbNNzK",
        "outputId": "c5b3c7b7-91de-4f35-afb7-2a72c2d43a38"
      },
      "source": [
        "x, y = train_generator.__getitem__(0)\n",
        "plt.imshow(x[0])"
      ],
      "execution_count": null,
      "outputs": [
        {
          "output_type": "stream",
          "text": [
            "Clipping input data to the valid range for imshow with RGB data ([0..1] for floats or [0..255] for integers).\n"
          ],
          "name": "stderr"
        },
        {
          "output_type": "execute_result",
          "data": {
            "text/plain": [
              "<matplotlib.image.AxesImage at 0x7f4e80ba0850>"
            ]
          },
          "metadata": {
            "tags": []
          },
          "execution_count": 19
        },
        {
          "output_type": "display_data",
          "data": {
            "image/png": "[encoded data removed]",
            "text/plain": [
              "<Figure size 432x288 with 1 Axes>"
            ]
          },
          "metadata": {
            "tags": [],
            "needs_background": "light"
          }
        }
      ]
    },
    {
      "cell_type": "code",
      "metadata": {
        "colab": {
          "base_uri": "https://localhost:8080/",
          "height": 365
        },
        "id": "VpE9Y1JyNN1_",
        "outputId": "2eb4e289-08b3-426e-b20c-fe995f0ca439"
      },
      "source": [
        "plt.xticks(rotation=90)\n",
        "plt.bar(x=labels,height=np.mean(train_generator.labels,axis=0))\n",
        "plt.title(\"frequency of each class\")\n",
        "plt.show()"
      ],
      "execution_count": null,
      "outputs": [
        {
          "output_type": "display_data",
          "data": {
            "image/png": "[encoded data removed]",
            "text/plain": [
              "<Figure size 432x288 with 1 Axes>"
            ]
          },
          "metadata": {
            "tags": [],
            "needs_background": "light"
          }
        }
      ]
    },
    {
      "cell_type": "code",
      "metadata": {
        "id": "Ae99AtjfNN5P"
      },
      "source": [
        "def compute_class_freqs(labels):\n",
        "  N = labels.shape[0]\n",
        "  positive_frequencies = np.sum(labels,axis=0) / N\n",
        "  negative_frequencies = 1 - positive_frequencies\n",
        "  return positive_frequencies,negative_frequencies"
      ],
      "execution_count": null,
      "outputs": []
    },
    {
      "cell_type": "code",
      "metadata": {
        "colab": {
          "base_uri": "https://localhost:8080/"
        },
        "id": "qTSSHPFFNN75",
        "outputId": "4d22fc0c-b165-4093-a938-c2a8ab4dff38"
      },
      "source": [
        "labels_matrix = np.array( [[1, 0, 0],\n",
        "     [0, 1, 1],\n",
        "     [1, 0, 1],\n",
        "     [1, 1, 1],\n",
        "     [1, 0, 1]])\n",
        "print(labels_matrix)\n",
        "test_pos_freq,test_neg_freq = compute_class_freqs(labels_matrix)\n",
        "print(f\"pos freq {test_pos_freq}\")\n",
        "print(f\"neg freq {test_neg_freq}\")"
      ],
      "execution_count": null,
      "outputs": [
        {
          "output_type": "stream",
          "text": [
            "[[1 0 0]\n",
            " [0 1 1]\n",
            " [1 0 1]\n",
            " [1 1 1]\n",
            " [1 0 1]]\n",
            "pos freq [0.8 0.4 0.8]\n",
            "neg freq [0.2 0.6 0.2]\n"
          ],
          "name": "stdout"
        }
      ]
    },
    {
      "cell_type": "code",
      "metadata": {
        "id": "uD0dHzywNN-w",
        "colab": {
          "base_uri": "https://localhost:8080/"
        },
        "outputId": "062cda3f-f6f7-42fc-d4d7-879118670d6e"
      },
      "source": [
        "freq_pos,freq_neg = compute_class_freqs(train_generator.labels)\n",
        "freq_pos"
      ],
      "execution_count": null,
      "outputs": [
        {
          "output_type": "execute_result",
          "data": {
            "text/plain": [
              "array([0.     , 0.     , 0.21875, 0.     , 0.15625, 0.03125, 0.     ,\n",
              "       0.125  , 0.     , 0.03125, 0.     , 0.     , 0.     , 0.0625 ])"
            ]
          },
          "metadata": {
            "tags": []
          },
          "execution_count": 25
        }
      ]
    },
    {
      "cell_type": "code",
      "metadata": {
        "id": "Ws81N5l1NOCb",
        "colab": {
          "base_uri": "https://localhost:8080/",
          "height": 363
        },
        "outputId": "293aad28-d067-48ca-dadc-32e7c29b4ce9"
      },
      "source": [
        "data = pd.DataFrame({\"Class\": labels, \"Label\": \"Positive\", \"Value\": freq_pos})\n",
        "data = data.append([{\"Class\": labels[l], \"Label\": \"Negative\", \"Value\": v} for l,v in enumerate(freq_neg)], ignore_index=True)\n",
        "plt.xticks(rotation=90)\n",
        "f = sns.barplot(x=\"Class\", y=\"Value\", hue=\"Label\" ,data=data)"
      ],
      "execution_count": null,
      "outputs": [
        {
          "output_type": "display_data",
          "data": {
            "image/png": "[encoded data removed]",
            "text/plain": [
              "<Figure size 432x288 with 1 Axes>"
            ]
          },
          "metadata": {
            "tags": [],
            "needs_background": "light"
          }
        }
      ]
    },
    {
      "cell_type": "code",
      "metadata": {
        "id": "unjzuS2ONOTL"
      },
      "source": [
        "pos_weights = freq_neg \n",
        "neg_weights = freq_pos\n",
        "pos_contribution = freq_pos * pos_weights\n",
        "neg_contribution = freq_neg * neg_weights"
      ],
      "execution_count": null,
      "outputs": []
    },
    {
      "cell_type": "code",
      "metadata": {
        "id": "1iy8jM-lDTHH",
        "colab": {
          "base_uri": "https://localhost:8080/",
          "height": 363
        },
        "outputId": "32b4751d-b40d-4739-c1cf-064120648a8a"
      },
      "source": [
        "data = pd.DataFrame({\"Class\": labels, \"Label\": \"Positive\", \"Value\": pos_contribution})\n",
        "data = data.append([{\"Class\": labels[l], \"Label\": \"Negative\", \"Value\": v} \n",
        "                        for l,v in enumerate(neg_contribution)], ignore_index=True)\n",
        "plt.xticks(rotation=90)\n",
        "sns.barplot(x=\"Class\", y=\"Value\", hue=\"Label\" ,data=data);"
      ],
      "execution_count": null,
      "outputs": [
        {
          "output_type": "display_data",
          "data": {
            "image/png": "[encoded data removed]",
            "text/plain": [
              "<Figure size 432x288 with 1 Axes>"
            ]
          },
          "metadata": {
            "tags": [],
            "needs_background": "light"
          }
        }
      ]
    },
    {
      "cell_type": "code",
      "metadata": {
        "id": "rUlkIoAdDTKW"
      },
      "source": [
        "\n",
        "def get_weighted_loss(pos_weights, neg_weights, epsilon=1e-7):\n",
        "\n",
        "    def weighted_loss(y_true, y_pred):\n",
        "\n",
        "        loss = 0.0\n",
        "\n",
        "        for i in range(len(pos_weights)):\n",
        "            loss_pos = -1 * k.mean(pos_weights[i] * y_true[:, i] * k.log(y_pred[:, i] + epsilon))\n",
        "            loss_neg = -1 * k.mean(neg_weights[i] * (1 - y_true[:, i]) * k.log(1 - y_pred[:, i] + epsilon))\n",
        "            loss += loss_pos + loss_neg\n",
        "        return loss\n",
        "    return weighted_loss"
      ],
      "execution_count": null,
      "outputs": []
    },
    {
      "cell_type": "code",
      "metadata": {
        "id": "NhTqja4JqZDr",
        "colab": {
          "base_uri": "https://localhost:8080/"
        },
        "outputId": "624ac501-c83e-4499-b5e6-2fa27c395054"
      },
      "source": [
        "y_true = k.constant(np.array(\n",
        "        [[1, 1, 1],\n",
        "         [1, 1, 0],\n",
        "         [0, 1, 0],\n",
        "         [1, 0, 1]]\n",
        "    ))\n",
        "print(y_true)\n",
        "\n",
        "w_p = np.array([0.25, 0.25, 0.5])\n",
        "w_n = np.array([0.75, 0.75, 0.5])\n",
        "print(w_p)\n",
        "print(w_n)\n",
        "\n",
        "y_pred_1 = k.constant(0.7*np.ones(y_true.shape))\n",
        "print(y_pred_1)\n",
        "\n",
        "y_pred_2 = k.constant(0.3*np.ones(y_true.shape))\n",
        "print(y_pred_2)\n",
        "\n",
        "L = get_weighted_loss(w_p, w_n, epsilon=1)\n",
        "L1 = L(y_true, y_pred_1)\n",
        "L2 = L(y_true, y_pred_2)\n",
        "print(f\"\\nL(y_pred_1)= {L1:.4f}, L(y_pred_2)= {L2:.4f}\")\n",
        "print(f\"Difference is L1 - L2 = {L1 - L2:.4f}\")"
      ],
      "execution_count": null,
      "outputs": [
        {
          "output_type": "stream",
          "text": [
            "tf.Tensor(\n",
            "[[1. 1. 1.]\n",
            " [1. 1. 0.]\n",
            " [0. 1. 0.]\n",
            " [1. 0. 1.]], shape=(4, 3), dtype=float32)\n",
            "[0.25 0.25 0.5 ]\n",
            "[0.75 0.75 0.5 ]\n",
            "tf.Tensor(\n",
            "[[0.7 0.7 0.7]\n",
            " [0.7 0.7 0.7]\n",
            " [0.7 0.7 0.7]\n",
            " [0.7 0.7 0.7]], shape=(4, 3), dtype=float32)\n",
            "tf.Tensor(\n",
            "[[0.3 0.3 0.3]\n",
            " [0.3 0.3 0.3]\n",
            " [0.3 0.3 0.3]\n",
            " [0.3 0.3 0.3]], shape=(4, 3), dtype=float32)\n",
            "\n",
            "L(y_pred_1)= -0.4956, L(y_pred_2)= -0.4956\n",
            "Difference is L1 - L2 = 0.0000\n"
          ],
          "name": "stdout"
        }
      ]
    },
    {
      "cell_type": "code",
      "metadata": {
        "id": "eHTvcmIlqZGk"
      },
      "source": [
        "base_model = DenseNet121(weights=\"./nih/densenet.hdf5\",include_top=False)\n",
        "x = base_model.output \n",
        "x = GlobalAveragePooling2D()(x)\n",
        "predictions = Dense(len(labels),activation=\"sigmoid\")(x)\n",
        "model = Model(inputs=base_model.input,outputs=predictions)\n",
        "model.compile(optimizer=\"adam\",loss=get_weighted_loss(pos_weights,neg_weights))"
      ],
      "execution_count": null,
      "outputs": []
    }
  ]
}